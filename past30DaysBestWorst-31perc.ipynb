{
 "cells": [
  {
   "cell_type": "code",
   "execution_count": 1,
   "id": "096ba017",
   "metadata": {
    "scrolled": true
   },
   "outputs": [
    {
     "name": "stderr",
     "output_type": "stream",
     "text": [
      "[***********           22%%                      ]  110 of 503 completed"
     ]
    },
    {
     "name": "stdout",
     "output_type": "stream",
     "text": [
      "$BF.B: possibly delisted; No price data found  (1d 2023-07-02 21:11:43.769475 -> 2024-07-01 21:11:43.769475)\n"
     ]
    },
    {
     "name": "stderr",
     "output_type": "stream",
     "text": [
      "[*********************100%%**********************]  503 of 503 completed\n",
      "\n",
      "2 Failed downloads:\n",
      "['BF.B']: YFPricesMissingError('$%ticker%: possibly delisted; No price data found  (1d 2023-07-02 21:11:43.769475 -> 2024-07-01 21:11:43.769475)')\n",
      "['BRK.B']: YFTzMissingError('$%ticker%: possibly delisted; No timezone found')\n",
      "C:\\Users\\samui\\AppData\\Local\\Temp\\ipykernel_5264\\2688280795.py:33: FutureWarning: The default fill_method='pad' in DataFrame.pct_change is deprecated and will be removed in a future version. Either fill in any non-leading NA values prior to calling pct_change or specify 'fill_method=None' to not fill NA values.\n",
      "  returns = current_data.pct_change()\n",
      "C:\\Users\\samui\\AppData\\Local\\Temp\\ipykernel_5264\\2688280795.py:33: FutureWarning: The default fill_method='pad' in DataFrame.pct_change is deprecated and will be removed in a future version. Either fill in any non-leading NA values prior to calling pct_change or specify 'fill_method=None' to not fill NA values.\n",
      "  returns = current_data.pct_change()\n",
      "C:\\Users\\samui\\AppData\\Local\\Temp\\ipykernel_5264\\2688280795.py:33: FutureWarning: The default fill_method='pad' in DataFrame.pct_change is deprecated and will be removed in a future version. Either fill in any non-leading NA values prior to calling pct_change or specify 'fill_method=None' to not fill NA values.\n",
      "  returns = current_data.pct_change()\n",
      "C:\\Users\\samui\\AppData\\Local\\Temp\\ipykernel_5264\\2688280795.py:33: FutureWarning: The default fill_method='pad' in DataFrame.pct_change is deprecated and will be removed in a future version. Either fill in any non-leading NA values prior to calling pct_change or specify 'fill_method=None' to not fill NA values.\n",
      "  returns = current_data.pct_change()\n",
      "C:\\Users\\samui\\AppData\\Local\\Temp\\ipykernel_5264\\2688280795.py:33: FutureWarning: The default fill_method='pad' in DataFrame.pct_change is deprecated and will be removed in a future version. Either fill in any non-leading NA values prior to calling pct_change or specify 'fill_method=None' to not fill NA values.\n",
      "  returns = current_data.pct_change()\n",
      "C:\\Users\\samui\\AppData\\Local\\Temp\\ipykernel_5264\\2688280795.py:33: FutureWarning: The default fill_method='pad' in DataFrame.pct_change is deprecated and will be removed in a future version. Either fill in any non-leading NA values prior to calling pct_change or specify 'fill_method=None' to not fill NA values.\n",
      "  returns = current_data.pct_change()\n",
      "C:\\Users\\samui\\AppData\\Local\\Temp\\ipykernel_5264\\2688280795.py:33: FutureWarning: The default fill_method='pad' in DataFrame.pct_change is deprecated and will be removed in a future version. Either fill in any non-leading NA values prior to calling pct_change or specify 'fill_method=None' to not fill NA values.\n",
      "  returns = current_data.pct_change()\n",
      "C:\\Users\\samui\\AppData\\Local\\Temp\\ipykernel_5264\\2688280795.py:33: FutureWarning: The default fill_method='pad' in DataFrame.pct_change is deprecated and will be removed in a future version. Either fill in any non-leading NA values prior to calling pct_change or specify 'fill_method=None' to not fill NA values.\n",
      "  returns = current_data.pct_change()\n",
      "C:\\Users\\samui\\AppData\\Local\\Temp\\ipykernel_5264\\2688280795.py:33: FutureWarning: The default fill_method='pad' in DataFrame.pct_change is deprecated and will be removed in a future version. Either fill in any non-leading NA values prior to calling pct_change or specify 'fill_method=None' to not fill NA values.\n",
      "  returns = current_data.pct_change()\n",
      "C:\\Users\\samui\\AppData\\Local\\Temp\\ipykernel_5264\\2688280795.py:33: FutureWarning: The default fill_method='pad' in DataFrame.pct_change is deprecated and will be removed in a future version. Either fill in any non-leading NA values prior to calling pct_change or specify 'fill_method=None' to not fill NA values.\n",
      "  returns = current_data.pct_change()\n",
      "C:\\Users\\samui\\AppData\\Local\\Temp\\ipykernel_5264\\2688280795.py:33: FutureWarning: The default fill_method='pad' in DataFrame.pct_change is deprecated and will be removed in a future version. Either fill in any non-leading NA values prior to calling pct_change or specify 'fill_method=None' to not fill NA values.\n",
      "  returns = current_data.pct_change()\n"
     ]
    },
    {
     "name": "stdout",
     "output_type": "stream",
     "text": [
      "Monthly Performance:\n",
      "2023-08-01: 2.23%\n",
      "2023-08-31: 2.55%\n",
      "2023-09-30: 1.88%\n",
      "2023-10-30: 2.94%\n",
      "2023-11-29: 2.84%\n",
      "2023-12-29: 2.18%\n",
      "2024-01-28: 5.12%\n",
      "2024-02-27: 4.52%\n",
      "2024-03-28: 2.16%\n",
      "2024-04-27: 2.59%\n",
      "2024-05-27: 3.63%\n",
      "2024-06-26: 2.12%\n",
      "\n",
      "Portfolio Return:\n",
      "34.77%\n"
     ]
    },
    {
     "name": "stderr",
     "output_type": "stream",
     "text": [
      "C:\\Users\\samui\\AppData\\Local\\Temp\\ipykernel_5264\\2688280795.py:33: FutureWarning: The default fill_method='pad' in DataFrame.pct_change is deprecated and will be removed in a future version. Either fill in any non-leading NA values prior to calling pct_change or specify 'fill_method=None' to not fill NA values.\n",
      "  returns = current_data.pct_change()\n"
     ]
    }
   ],
   "source": [
    "import yfinance as yf\n",
    "import pandas as pd\n",
    "from datetime import datetime, timedelta\n",
    "\n",
    "# Function to fetch S&P 500 tickers\n",
    "def get_sp500_tickers():\n",
    "    url = 'https://en.wikipedia.org/wiki/List_of_S%26P_500_companies'\n",
    "    data = pd.read_html(url)\n",
    "    table = data[0]\n",
    "    return table['Symbol'].tolist()\n",
    "\n",
    "# Function to fetch historical data and calculate performance\n",
    "def backtest_strategy(start_date, end_date):\n",
    "    sp500_tickers = get_sp500_tickers()\n",
    "    \n",
    "    # Fetch historical data for S&P 500 tickers\n",
    "    data = yf.download(sp500_tickers, start=start_date, end=end_date)['Adj Close']\n",
    "    \n",
    "    # Initialize a list to store monthly performances\n",
    "    monthly_performance = []\n",
    "    monthly_returns = []\n",
    "    \n",
    "    # Backtest for each month\n",
    "    for i in range(12):  # Backtest for 12 months (adjust as needed)\n",
    "        # Calculate start and end dates for the current month's 30-day period\n",
    "        current_start = start_date + timedelta(days=i*30)\n",
    "        current_end = current_start + timedelta(days=30)\n",
    "        \n",
    "        # Slice the data for the current 30-day period\n",
    "        current_data = data.loc[current_start:current_end]\n",
    "        \n",
    "        # Calculate percentage change for each stock in the current period\n",
    "        returns = current_data.pct_change()\n",
    "        \n",
    "        # Average return of long positions minus short positions (example logic)\n",
    "        top_performers = returns.mean().nlargest(1).index\n",
    "        worst_performers = returns.mean().nsmallest(1).index\n",
    "        \n",
    "        long_return = returns[top_performers].mean().mean()\n",
    "        short_return = returns[worst_performers].mean().mean()\n",
    "        \n",
    "        monthly_return = long_return - short_return\n",
    "        \n",
    "        # Append monthly performance to the list\n",
    "        monthly_performance.append((current_end, monthly_return))\n",
    "        monthly_returns.append(monthly_return)\n",
    "    \n",
    "    # Calculate cumulative portfolio return\n",
    "    portfolio_return = (1 + sum(monthly_returns)) - 1\n",
    "    \n",
    "    return monthly_performance, portfolio_return\n",
    "\n",
    "# Main function to run the backtest and print results\n",
    "def main():\n",
    "    # Define the date range for the past year\n",
    "    end_date = datetime.now()\n",
    "    start_date = end_date - timedelta(days=365)\n",
    "    \n",
    "    # Perform backtest\n",
    "    monthly_performance, portfolio_return = backtest_strategy(start_date, end_date)\n",
    "    \n",
    "    # Print monthly performance\n",
    "    print(\"Monthly Performance:\")\n",
    "    for date, performance in monthly_performance:\n",
    "        print(f\"{date.strftime('%Y-%m-%d')}: {performance:.2%}\")\n",
    "    \n",
    "    # Print portfolio return\n",
    "    print(\"\\nPortfolio Return:\")\n",
    "    print(f\"{portfolio_return:.2%}\")\n",
    "\n",
    "if __name__ == \"__main__\":\n",
    "    main()\n"
   ]
  },
  {
   "cell_type": "code",
   "execution_count": null,
   "id": "5a5f70e1",
   "metadata": {},
   "outputs": [],
   "source": []
  },
  {
   "cell_type": "code",
   "execution_count": null,
   "id": "90e7abe4",
   "metadata": {},
   "outputs": [],
   "source": []
  },
  {
   "cell_type": "code",
   "execution_count": null,
   "id": "03c0ec22",
   "metadata": {},
   "outputs": [],
   "source": []
  },
  {
   "cell_type": "code",
   "execution_count": null,
   "id": "269974ba",
   "metadata": {},
   "outputs": [],
   "source": []
  },
  {
   "cell_type": "code",
   "execution_count": null,
   "id": "098852fe",
   "metadata": {},
   "outputs": [],
   "source": []
  },
  {
   "cell_type": "code",
   "execution_count": 2,
   "id": "f171f22d",
   "metadata": {
    "scrolled": true
   },
   "outputs": [
    {
     "name": "stderr",
     "output_type": "stream",
     "text": [
      "[***********           22%%                      ]  109 of 503 completed"
     ]
    },
    {
     "name": "stdout",
     "output_type": "stream",
     "text": [
      "$BF.B: possibly delisted; No price data found  (1d 2023-07-02 21:12:02.694626 -> 2024-07-01 21:12:02.694626)\n"
     ]
    },
    {
     "name": "stderr",
     "output_type": "stream",
     "text": [
      "[*********************100%%**********************]  503 of 503 completed\n",
      "\n",
      "2 Failed downloads:\n",
      "['BF.B']: YFPricesMissingError('$%ticker%: possibly delisted; No price data found  (1d 2023-07-02 21:12:02.694626 -> 2024-07-01 21:12:02.694626)')\n",
      "['BRK.B']: YFTzMissingError('$%ticker%: possibly delisted; No timezone found')\n"
     ]
    },
    {
     "name": "stdout",
     "output_type": "stream",
     "text": [
      "Best Performers:\n",
      "Ticker\n",
      "NVDA    0.313971\n",
      "TSLA    0.216655\n",
      "CCL     0.195638\n",
      "NTAP    0.191253\n",
      "HPE     0.185427\n",
      "LLY     0.182131\n",
      "ORCL    0.175344\n",
      "QRVO    0.173952\n",
      "FDX     0.166288\n",
      "AVGO    0.154993\n",
      "Name: 2024-07-01 00:00:00, dtype: float64\n",
      "\n",
      "Worst Performers:\n",
      "Ticker\n",
      "WBA    -0.357578\n",
      "ALB    -0.252496\n",
      "AAL    -0.249831\n",
      "EL     -0.233063\n",
      "WAT    -0.222657\n",
      "BBWI   -0.216037\n",
      "PAYC   -0.211593\n",
      "PARA   -0.198394\n",
      "DAY    -0.194800\n",
      "BLDR   -0.186468\n",
      "Name: 2024-07-01 00:00:00, dtype: float64\n"
     ]
    },
    {
     "name": "stderr",
     "output_type": "stream",
     "text": [
      "C:\\Users\\samui\\AppData\\Local\\Temp\\ipykernel_5264\\795252830.py:20: FutureWarning: The default fill_method='pad' in DataFrame.pct_change is deprecated and will be removed in a future version. Either fill in any non-leading NA values prior to calling pct_change or specify 'fill_method=None' to not fill NA values.\n",
      "  returns = data.pct_change(periods=30)\n"
     ]
    }
   ],
   "source": [
    "import yfinance as yf\n",
    "import pandas as pd\n",
    "from datetime import datetime, timedelta\n",
    "\n",
    "# Function to fetch S&P 500 tickers\n",
    "def get_sp500_tickers():\n",
    "    url = 'https://en.wikipedia.org/wiki/List_of_S%26P_500_companies'\n",
    "    data = pd.read_html(url)\n",
    "    table = data[0]\n",
    "    return table['Symbol'].tolist()\n",
    "\n",
    "# Function to fetch historical data and calculate performance\n",
    "def get_best_worst_performers(start_date, end_date):\n",
    "    sp500_tickers = get_sp500_tickers()\n",
    "    \n",
    "    # Fetch historical data for S&P 500 tickers\n",
    "    data = yf.download(sp500_tickers, start=start_date, end=end_date)['Adj Close']\n",
    "    \n",
    "    # Calculate performance over the last 30 days\n",
    "    returns = data.pct_change(periods=30)\n",
    "    \n",
    "    # Get the 2 best and worst performers\n",
    "    best_performers = returns.iloc[-1].nlargest(10)\n",
    "    worst_performers = returns.iloc[-1].nsmallest(10)\n",
    "    \n",
    "    return best_performers, worst_performers\n",
    "\n",
    "# Main function to run the script\n",
    "def main():\n",
    "    # Define the date range for the past year\n",
    "    end_date = datetime.now()\n",
    "    start_date = end_date - timedelta(days=365)\n",
    "    \n",
    "    # Get the best and worst performers\n",
    "    best_performers, worst_performers = get_best_worst_performers(start_date, end_date)\n",
    "    \n",
    "    print(\"Best Performers:\")\n",
    "    print(best_performers)\n",
    "    print(\"\\nWorst Performers:\")\n",
    "    print(worst_performers)\n",
    "\n",
    "if __name__ == \"__main__\":\n",
    "    main()"
   ]
  },
  {
   "cell_type": "code",
   "execution_count": null,
   "id": "cbe92b68",
   "metadata": {},
   "outputs": [],
   "source": []
  },
  {
   "cell_type": "code",
   "execution_count": null,
   "id": "1ca74801-f4c8-410d-9d3b-989452d046dc",
   "metadata": {},
   "outputs": [],
   "source": []
  }
 ],
 "metadata": {
  "kernelspec": {
   "display_name": "Python 3 (ipykernel)",
   "language": "python",
   "name": "python3"
  },
  "language_info": {
   "codemirror_mode": {
    "name": "ipython",
    "version": 3
   },
   "file_extension": ".py",
   "mimetype": "text/x-python",
   "name": "python",
   "nbconvert_exporter": "python",
   "pygments_lexer": "ipython3",
   "version": "3.12.4"
  }
 },
 "nbformat": 4,
 "nbformat_minor": 5
}
